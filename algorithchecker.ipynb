{
 "cells": [
  {
   "cell_type": "code",
   "execution_count": 73,
   "metadata": {},
   "outputs": [],
   "source": [
    "import pygame\n",
    "import random\n",
    "\n",
    "class Point:\n",
    "    def __init__(self, screen_width=None, screen_height=None, x=None, y=None):\n",
    "        if x is None or y is None:\n",
    "            self.pos = pygame.Vector2(random.randint(10, screen_width-10), random.randint(60, screen_height-10))    # 60 => 50 extra for the top bar\n",
    "        else:\n",
    "            self.pos = pygame.Vector2(x,y)\n",
    "        print(\"point pos = \", self.pos)\n",
    "        \n",
    "    def draw(self, screen, color=\"red\", size=5):\n",
    "        pygame.draw.circle(screen, color, self.pos, size)\n"
   ]
  },
  {
   "cell_type": "code",
   "execution_count": 74,
   "metadata": {},
   "outputs": [
    {
     "name": "stdout",
     "output_type": "stream",
     "text": [
      "point pos =  [0, 200]\n",
      "point pos =  [100, 150]\n",
      "point pos =  [150, 50]\n",
      "point pos =  [200, 150]\n",
      "point pos =  [300, 200]\n",
      "point pos =  [200, 250]\n",
      "point pos =  [150, 300]\n",
      "point pos =  [100, 250]\n",
      "Area ([0, 200],[100, 150],[150, 50]) = 7500.0\n",
      "Collinear ([150, 50],[200, 150],[300, 200]) = False\n"
     ]
    }
   ],
   "source": [
    "# Every algorithm from Module 11\n",
    "def Area2(a:Point,b:Point,c:Point):\n",
    "    \"\"\"\n",
    "    Returns twice the area of triangle abc\n",
    "    \"\"\"\n",
    "    # Returning minus this because all answers are coming opposite for inCOne\n",
    "    # return (b.pos.x - a.pos.x)*(c.pos.y - a.pos.y)-(c.pos.x-a.pos.x)*(b.pos.y-a.pos.y)\n",
    "    return (c.pos.x-a.pos.x)*(b.pos.y-a.pos.y)-(b.pos.x - a.pos.x)*(c.pos.y - a.pos.y)\n",
    "\n",
    "def Left(a:Point,b:Point,c:Point):\n",
    "    \"\"\"\n",
    "    Is c STRICTLY left of the oriented line ab?\n",
    "    \"\"\"\n",
    "    return Area2(a,b,c) > 0\n",
    "\n",
    "def LeftOn(a:Point,b:Point,c:Point):\n",
    "    \"\"\"\n",
    "    Is c left of or on the oriented line ab?\n",
    "    \"\"\"\n",
    "    return Area2(a,b,c) >= 0\n",
    "\n",
    "def Collinear(a:Point,b:Point,c:Point):\n",
    "    \"\"\"\n",
    "    Are a, b, c collinear points?\n",
    "    \"\"\"\n",
    "    return Area2(a,b,c) == 0\n",
    "\n",
    "# a = Point(100,100,x=0,y=0)\n",
    "# b = Point(100,100,x=10,y=0)\n",
    "# c = Point(100,100,x=5,y=-10)\n",
    "# d = Point(100,100,x=5,y=10)\n",
    "# e = Point(100,100,x=3,y=1)\n",
    "# f = Point(100,100,x=15,y=1)\n",
    "a = Point(x=0,y=200)\n",
    "b = Point(x=100,y=150)\n",
    "c = Point(x=150,y=50)\n",
    "d = Point(x=200,y=150)\n",
    "e = Point(x=300,y=200)\n",
    "f = Point(x=200,y=250)\n",
    "g = Point(x=150,y=300)\n",
    "h = Point(x=100,y=250)\n",
    "poly_points = [a,b,c,d,e,f,g,h]\n",
    "print(f\"Area ({a.pos},{b.pos},{c.pos}) = {Area2(a,b,c)}\")\n",
    "print(f\"Collinear ({c.pos},{d.pos},{e.pos}) = {Collinear(c,d,e)}\")"
   ]
  },
  {
   "cell_type": "code",
   "execution_count": 75,
   "metadata": {},
   "outputs": [
    {
     "name": "stdout",
     "output_type": "stream",
     "text": [
      "intersectProp on ([0, 200], [100, 150]) and ([150, 50], [150, 50]) => False\n",
      "intersectProp on ([300, 200], [100, 150]) and ([150, 50], [150, 50]) => False\n"
     ]
    }
   ],
   "source": [
    "def intersectProp(a:Point,b:Point,c:Point,d:Point):\n",
    "    \"\"\"\n",
    "    Return if ab and cd properly intersect\n",
    "    ab and cd properly intersect if and only if \n",
    "    1. points a and b are on opposite sides of line cd,\n",
    "    2. c and d are on opposite sides of line ab\n",
    "    \"\"\"\n",
    "    # Eliminate imporper collinear cases - \n",
    "    if Collinear(a,b,c) or Collinear(a,b,d) or Collinear(c,d,a) or Collinear(c,d,b):\n",
    "        return False    # collinear means they only touch. We consider that as not an intersection\n",
    "    return Left(a,b,c)^Left(a,b,d) and Left(c,d,a)^Left(c,d,b)  # Returns False only if c,d are on same side of ab and a,b are on same side of cd\n",
    "\n",
    "print(f\"intersectProp on ({a.pos}, {b.pos}) and ({c.pos}, {c.pos}) => {intersectProp(a,b,c,d)}\") \n",
    "print(f\"intersectProp on ({e.pos}, {b.pos}) and ({c.pos}, {c.pos}) => {intersectProp(e,b,c,d)}\") "
   ]
  },
  {
   "cell_type": "code",
   "execution_count": 76,
   "metadata": {},
   "outputs": [
    {
     "name": "stdout",
     "output_type": "stream",
     "text": [
      "Betweenness on [0, 200], [100, 150] for [200, 250] = False\n",
      "Betweenness on [0, 200], [100, 150] for [300, 200] = False\n"
     ]
    }
   ],
   "source": [
    "def Between(a:Point,b:Point,c:Point):\n",
    "    \"\"\"\n",
    "    Returns whether c is between a and b when collinear\n",
    "    \"\"\"\n",
    "    if not Collinear(a,b,c):\n",
    "        return False    # no further checks required if points are not collinear\n",
    "    \n",
    "    # if ab not vertical check betweenness on x. Else check on y\n",
    "    if a.pos.x != b.pos.x:\n",
    "        return (a.pos.x<=c.pos.x and c.pos.x<=b.pos.x) or (a.pos.x>=c.pos.x and c.pos.x>=b.pos.x)\n",
    "    else:\n",
    "        return (a.pos.y<=c.pos.y and c.pos.y<=b.pos.y) or (a.pos.y>=c.pos.y and c.pos.y>=b.pos.y)\n",
    "    \n",
    "print(f\"Betweenness on {a.pos}, {b.pos} for {f.pos} = {Between(a,b,f)}\")\n",
    "print(f\"Betweenness on {a.pos}, {b.pos} for {e.pos} = {Between(a,b,e)}\")"
   ]
  },
  {
   "cell_type": "code",
   "execution_count": 77,
   "metadata": {},
   "outputs": [
    {
     "name": "stdout",
     "output_type": "stream",
     "text": [
      "Intersect (not IntersectProp) on ([0, 200],[100, 150]) and ([150, 50],[200, 150]) = False\n",
      "Intersect (not IntersectProp) on ([0, 200],[100, 150]) and ([300, 200],[200, 150]) = False\n",
      "Intersect (not IntersectProp) on ([150, 50],[100, 150]) and ([300, 200],[200, 150]) = False\n"
     ]
    }
   ],
   "source": [
    "def Intersect(a:Point,b:Point,c:Point,d:Point):\n",
    "    \"\"\"\n",
    "    IntersectProp Does not return and intersection if 3 points are collinear. So Do a betweenness check\n",
    "    If the third collinear point is between the other segment, then the intersection should return True\n",
    "    \"\"\"\n",
    "    # DOUBT: For guarding we can probably ignore this as we dont stop guarding if a vertex is hit, we can go evne further till we hit a proper edge\n",
    "    if intersectProp(a,b,c,d):\n",
    "        return True\n",
    "    elif Between(a,b,c) or Between(a,b,d) or Between(c,d,a) or Between(c,d,b):\n",
    "        return True\n",
    "    else:\n",
    "        return False\n",
    "\n",
    "# I DOUBT this function is required for guarding question    \n",
    "print(f\"Intersect (not IntersectProp) on ({a.pos},{b.pos}) and ({c.pos},{d.pos}) = {Intersect(a,b,c,d)}\")\n",
    "print(f\"Intersect (not IntersectProp) on ({a.pos},{b.pos}) and ({e.pos},{d.pos}) = {Intersect(a,b,e,d)}\")\n",
    "print(f\"Intersect (not IntersectProp) on ({c.pos},{b.pos}) and ({e.pos},{d.pos}) = {Intersect(c,b,e,d)}\")\n"
   ]
  },
  {
   "cell_type": "code",
   "execution_count": 78,
   "metadata": {},
   "outputs": [
    {
     "name": "stdout",
     "output_type": "stream",
     "text": [
      "Diagonalie on [0, 200], [200, 150] = True\n",
      "Diagonalie on [200, 250], [200, 150] = True\n",
      "Diagonalie on [100, 150], [300, 200] = True\n",
      "Diagonalie on [100, 150], [200, 250] = True -> this one is outside. Problem will be resolved with inCone tase coming up next\n",
      "Diagonalie on [100, 150], [150, 50] = True\n"
     ]
    }
   ],
   "source": [
    "# poly_points = [e,b,c,a,d,f] # appending e to the end \n",
    "\n",
    "def Diagonalie(ai:int,bi:int):\n",
    "    \"\"\"\n",
    "    Returns True is no segment of the polygon intersects diagonal joining vertices at index ai,bi\n",
    "    \"\"\"\n",
    "    # ai, bi are the indexes of ther vertices in poly_points\n",
    "    a = poly_points[ai]\n",
    "    b = poly_points[bi]\n",
    "    for i in range(len(poly_points)):\n",
    "        if i==len(poly_points)-1:   # for last point, the next point will the first point\n",
    "            i_next = 0\n",
    "        else:\n",
    "            i_next = i+1\n",
    "        # skip edges adjacent to ai or bi\n",
    "        if i != ai and i_next != ai and i != bi and i_next != bi and Intersect(a,b,poly_points[i],poly_points[i_next]):\n",
    "            return False    # an intersection is found\n",
    "        # DOUBT: Change the Intersect function above to IntersectProp? Will not require Between function also if replaced\n",
    "    return True\n",
    "\n",
    "\n",
    "print(f\"Diagonalie on {poly_points[0].pos}, {poly_points[3].pos} = {Diagonalie(0,3)}\")\n",
    "print(f\"Diagonalie on {poly_points[5].pos}, {poly_points[3].pos} = {Diagonalie(5,3)}\")\n",
    "print(f\"Diagonalie on {poly_points[1].pos}, {poly_points[4].pos} = {Diagonalie(1,4)}\")\n",
    "print(f\"Diagonalie on {poly_points[1].pos}, {poly_points[5].pos} = {Diagonalie(1,5)} -> this one is outside. Problem will be resolved with inCone tase coming up next\")\n",
    "print(f\"Diagonalie on {poly_points[1].pos}, {poly_points[2].pos} = {Diagonalie(1,2)}\")"
   ]
  },
  {
   "cell_type": "code",
   "execution_count": 79,
   "metadata": {},
   "outputs": [
    {
     "name": "stdout",
     "output_type": "stream",
     "text": [
      "Left a,b,a1 =  False\n",
      "Left b,a,a0 =  False\n",
      "Incone [100, 150],[200, 150] = True\n",
      "Left a,b,a1 =  False\n",
      "Left b,a,a0 =  False\n",
      "Incone [100, 150],[300, 200] = True\n"
     ]
    }
   ],
   "source": [
    "def inCone(ai:int,bi:int):\n",
    "    \"\"\" \n",
    "    Returns wheter the diagonal joining vertices at ai,bi in poly_points is inside the polygone Cone or outside\n",
    "    \"\"\"\n",
    "    # get previous and next vertices of ai\n",
    "    a_prev = ai-1 if ai>0 else len(poly_points)-1   # extra handling for ai being 0\n",
    "    a_next = ai+1 if ai+1<len(poly_points) else 0   # extra handling for ai being last element\n",
    "    if a_next == bi or a_prev == bi:\n",
    "        return True # inCone test returns false for cosequetive vertices. I want it to return True as it is visible from the guard\n",
    "    a=poly_points[ai]\n",
    "    b=poly_points[bi]\n",
    "    a1 = poly_points[a_prev]\n",
    "    a0 = poly_points[a_next]\n",
    "    # Case 1: a is a convex vertex - \n",
    "    if LeftOn(a,a1,a0):\n",
    "        print(\"Left a,b,a0 = \",Left(a,b,a0))\n",
    "        print(\"Left b,a,a1 = \",Left(b,a,a1))\n",
    "        return Left(a,b,a0) and Left(b,a,a1)\n",
    "    # Case 2: Else a is a reflex vertex\n",
    "    \n",
    "    print(\"Left a,b,a1 = \",Left(a,b,a1))\n",
    "    print(\"Left b,a,a0 = \",Left(b,a,a0))\n",
    "    return not(LeftOn(a,b,a1) and LeftOn(b,a,a0))\n",
    "\n",
    "# print(f\"Incone {poly_points[1].pos},{poly_points[5].pos} = {inCone(1,5)} -> this was the problemaatic one before. It will give correct ans now\")\n",
    "# print(f\"Incone {poly_points[0].pos},{poly_points[3].pos} = {inCone(0,3)}\")\n",
    "# print(f\"Incone {poly_points[1].pos},{poly_points[2].pos} = {inCone(1,2)}\")\n",
    "print(f\"Incone {poly_points[1].pos},{poly_points[3].pos} = {inCone(1,3)}\")\n",
    "print(f\"Incone {poly_points[1].pos},{poly_points[4].pos} = {inCone(1,4)}\")\n"
   ]
  },
  {
   "cell_type": "code",
   "execution_count": 80,
   "metadata": {},
   "outputs": [
    {
     "name": "stdout",
     "output_type": "stream",
     "text": [
      "Left a,b,a1 =  False\n",
      "Left b,a,a0 =  False\n",
      "Diagonal? 1, 3 = True  (Should be true)\n",
      "Left a,b,a1 =  False\n",
      "Left b,a,a0 =  False\n",
      "Diagonal? 5, 3 = True  (Should be true)\n",
      "Left a,b,a1 =  False\n",
      "Left b,a,a0 =  False\n",
      "Diagonal? 1, 4 = True  (Should be true)\n",
      "Left a,b,a1 =  False\n",
      "Left b,a,a0 =  False\n",
      "Diagonal? 1, 4 = True  (Should be true)\n",
      "Diagonal? 1, 2 = True  (Should be true)\n",
      "Left a,b,a0 =  True\n",
      "Left b,a,a1 =  True\n",
      "Diagonal? 6, 3 = True  (Should be true)\n",
      "Left a,b,a0 =  True\n",
      "Left b,a,a1 =  False\n",
      "Diagonal? 6, 4 = False  (Should be false)\n",
      "Left a,b,a0 =  False\n",
      "Left b,a,a1 =  True\n",
      "Diagonal? 6, 0 = False  (Should be false)\n",
      "Left a,b,a0 =  False\n",
      "Left b,a,a1 =  True\n",
      "Diagonal? 6, 6 = False  (Should be true)\n",
      "Left a,b,a0 =  False\n",
      "Left b,a,a1 =  True\n",
      "Diagonal? 2, 4 = False  (Should be false)\n"
     ]
    }
   ],
   "source": [
    "def Diagonal(ai:int,bi:int):\n",
    "    \"\"\" \n",
    "    Returns whether vertex joining ai and bi is a diagonal. DOUBT: For our guarding condition, we might need to change our concept of diagonal a little bit\n",
    "    \"\"\"\n",
    "    # return inCone(ai,bi) and inCone(bi,ai) and Diagonalie(ai,bi)\n",
    "    return inCone(ai,bi) and Diagonalie(ai,bi)  # one of the inCone tests can be removed (Slide 25 module 11)\n",
    "\n",
    "# print(f\"Diagonal? {0}, {3} = {Diagonal(0,3)}\")\n",
    "# print(f\"Diagonal? {5}, {3} = {Diagonal(5,3)}\")\n",
    "# print(f\"Diagonal? {1}, {4} = {Diagonal(1,4)}\") # WRONG\n",
    "# print(f\"Diagonal? {1}, {4} = {Diagonal(1,5)} -> corrected now\")\n",
    "# print(f\"Diagonal? {1}, {2} = {Diagonal(1,2)}\")\n",
    "# print(f\"Diagonal? {1}, {3} = {Diagonal(1,3)}\") # WRONG\n",
    "\n",
    "print(f\"Diagonal? {1}, {3} = {Diagonal(1,3)}  (Should be true)\")\n",
    "print(f\"Diagonal? {5}, {3} = {Diagonal(5,3)}  (Should be true)\")\n",
    "print(f\"Diagonal? {1}, {4} = {Diagonal(1,4)}  (Should be true)\")\n",
    "print(f\"Diagonal? {1}, {4} = {Diagonal(1,5)}  (Should be true)\")\n",
    "print(f\"Diagonal? {1}, {2} = {Diagonal(1,2)}  (Should be true)\")\n",
    "print(f\"Diagonal? {6}, {3} = {Diagonal(6,3)}  (Should be true)\")\n",
    "print(f\"Diagonal? {6}, {4} = {Diagonal(6,4)}  (Should be false)\")\n",
    "print(f\"Diagonal? {6}, {0} = {Diagonal(6,0)}  (Should be false)\")\n",
    "print(f\"Diagonal? {6}, {6} = {Diagonal(6,0)}  (Should be true)\")\n",
    "print(f\"Diagonal? {2}, {4} = {Diagonal(2,4)}  (Should be false)\")"
   ]
  }
 ],
 "metadata": {
  "kernelspec": {
   "display_name": "Python 3",
   "language": "python",
   "name": "python3"
  },
  "language_info": {
   "codemirror_mode": {
    "name": "ipython",
    "version": 3
   },
   "file_extension": ".py",
   "mimetype": "text/x-python",
   "name": "python",
   "nbconvert_exporter": "python",
   "pygments_lexer": "ipython3",
   "version": "3.12.1"
  }
 },
 "nbformat": 4,
 "nbformat_minor": 2
}
